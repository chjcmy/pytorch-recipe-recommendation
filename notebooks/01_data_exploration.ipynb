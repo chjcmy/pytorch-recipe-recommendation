{
 "cells": [
  {
   "cell_type": "code",
   "execution_count": 1,
   "id": "c8a132a1-e83b-48da-934e-beb7e0fa38f2",
   "metadata": {},
   "outputs": [
    {
     "name": "stderr",
     "output_type": "stream",
     "text": [
      "Matplotlib is building the font cache; this may take a moment.\n"
     ]
    },
    {
     "name": "stdout",
     "output_type": "stream",
     "text": [
      "✅ 라이브러리 로드 완료\n"
     ]
    }
   ],
   "source": [
    "import pandas as pd\n",
    "import numpy as np\n",
    "import matplotlib.pyplot as plt\n",
    "import seaborn as sns\n",
    "\n",
    "# 설정\n",
    "plt.style.use('default')\n",
    "sns.set_palette(\"husl\")\n",
    "%matplotlib inline\n",
    "\n",
    "print(\"✅ 라이브러리 로드 완료\")\n"
   ]
  },
  {
   "cell_type": "code",
   "execution_count": 2,
   "id": "4f2d1029-81f6-4645-9c96-33b6eb10faa2",
   "metadata": {},
   "outputs": [
    {
     "name": "stdout",
     "output_type": "stream",
     "text": [
      "📊 데이터 로드 완료!\n",
      "레시피: 231,637개\n",
      "리뷰: 1,132,367개\n",
      "사용자: 226,570명\n"
     ]
    }
   ],
   "source": [
    "# 데이터 로드\n",
    "recipes = pd.read_csv('../data/RAW_recipes.csv')\n",
    "interactions = pd.read_csv('../data/RAW_interactions.csv')\n",
    "\n",
    "print(f\"📊 데이터 로드 완료!\")\n",
    "print(f\"레시피: {len(recipes):,}개\")\n",
    "print(f\"리뷰: {len(interactions):,}개\")\n",
    "print(f\"사용자: {interactions['user_id'].nunique():,}명\")\n"
   ]
  },
  {
   "cell_type": "code",
   "execution_count": 3,
   "id": "3a4e3c02-c943-421d-8b12-7ed42b76ce31",
   "metadata": {},
   "outputs": [
    {
     "name": "stdout",
     "output_type": "stream",
     "text": [
      "==================================================\n",
      "📖 RAW_recipes.csv 컬럼\n",
      "==================================================\n",
      "  - name\n",
      "  - id\n",
      "  - minutes\n",
      "  - contributor_id\n",
      "  - submitted\n",
      "  - tags\n",
      "  - nutrition\n",
      "  - n_steps\n",
      "  - steps\n",
      "  - description\n",
      "  - ingredients\n",
      "  - n_ingredients\n",
      "\n",
      "==================================================\n",
      "⭐ RAW_interactions.csv 컬럼\n",
      "==================================================\n",
      "  - user_id\n",
      "  - recipe_id\n",
      "  - date\n",
      "  - rating\n",
      "  - review\n",
      "\n",
      "==================================================\n",
      "📏 데이터 크기\n",
      "==================================================\n",
      "레시피 메모리: 358.0 MB\n",
      "리뷰 메모리: 445.3 MB\n"
     ]
    }
   ],
   "source": [
    "# 레시피 데이터 구조\n",
    "print(\"=\" * 50)\n",
    "print(\"📖 RAW_recipes.csv 컬럼\")\n",
    "print(\"=\" * 50)\n",
    "for col in recipes.columns:\n",
    "    print(f\"  - {col}\")\n",
    "\n",
    "print(\"\\n\" + \"=\" * 50)\n",
    "print(\"⭐ RAW_interactions.csv 컬럼\")\n",
    "print(\"=\" * 50)\n",
    "for col in interactions.columns:\n",
    "    print(f\"  - {col}\")\n",
    "\n",
    "print(\"\\n\" + \"=\" * 50)\n",
    "print(\"📏 데이터 크기\")\n",
    "print(\"=\" * 50)\n",
    "print(f\"레시피 메모리: {recipes.memory_usage(deep=True).sum() / 1024**2:.1f} MB\")\n",
    "print(f\"리뷰 메모리: {interactions.memory_usage(deep=True).sum() / 1024**2:.1f} MB\")"
   ]
  },
  {
   "cell_type": "code",
   "execution_count": 4,
   "id": "058df688-1035-4b9b-bc93-9c70ee6e621b",
   "metadata": {},
   "outputs": [
    {
     "name": "stdout",
     "output_type": "stream",
     "text": [
      "==================================================\n",
      "📊 평점 분포\n",
      "==================================================\n",
      "rating\n",
      "0     60847\n",
      "1     12818\n",
      "2     14123\n",
      "3     40855\n",
      "4    187360\n",
      "5    816364\n",
      "Name: count, dtype: int64\n",
      "\n",
      "평균 평점: 4.41\n",
      "중앙값: 5\n",
      "\n",
      "==================================================\n",
      "📈 평점 비율\n",
      "==================================================\n",
      "0점:   5.4% ██\n",
      "1점:   1.1% \n",
      "2점:   1.2% \n",
      "3점:   3.6% █\n",
      "4점:  16.5% ████████\n",
      "5점:  72.1% ████████████████████████████████████\n"
     ]
    }
   ],
   "source": [
    "# 평점 분포\n",
    "print(\"=\" * 50)\n",
    "print(\"📊 평점 분포\")\n",
    "print(\"=\" * 50)\n",
    "rating_dist = interactions['rating'].value_counts().sort_index()\n",
    "print(rating_dist)\n",
    "\n",
    "print(f\"\\n평균 평점: {interactions['rating'].mean():.2f}\")\n",
    "print(f\"중앙값: {interactions['rating'].median():.0f}\")\n",
    "\n",
    "# 비율로 보기\n",
    "print(\"\\n\" + \"=\" * 50)\n",
    "print(\"📈 평점 비율\")\n",
    "print(\"=\" * 50)\n",
    "for rating, count in rating_dist.items():\n",
    "    pct = count / len(interactions) * 100\n",
    "    bar = '█' * int(pct/2)\n",
    "    print(f\"{rating}점: {pct:>5.1f}% {bar}\")\n",
    "\n"
   ]
  },
  {
   "cell_type": "code",
   "execution_count": 5,
   "id": "760e4c6a-fa47-4246-bcb4-34c14672aeaf",
   "metadata": {},
   "outputs": [
    {
     "name": "stdout",
     "output_type": "stream",
     "text": [
      "==================================================\n",
      "🔍 0점 리뷰 분석\n",
      "==================================================\n",
      "0점 리뷰 개수: 60,847개\n",
      "0점 비율: 5.4%\n",
      "\n",
      "리뷰 텍스트 있는 0점: 60,847개\n",
      "리뷰 텍스트 없는 0점: 0개\n",
      "\n",
      "==================================================\n",
      "📝 0점 리뷰 샘플 (텍스트 있는 경우)\n",
      "==================================================\n",
      "\n",
      "1. Just an observation, so I will not rate.  I followed this procedure with strawberries instead of raspberries.  Perhaps this is the reason it did not w...\n",
      "\n",
      "2. Made my own buttermilk w/ vinegar and milk.  Used defrosted fresh skinless/boneless chicken fillets.  3 lbs.\n",
      "This mix is extremely flavorful and its ...\n",
      "\n",
      "3. This is a very good recipe.  We also want to cut back on the fat content in our diet . Very tasty dish!!!...\n"
     ]
    }
   ],
   "source": [
    "# 0점 리뷰 분석\n",
    "zero_ratings = interactions[interactions['rating'] == 0]\n",
    "\n",
    "print(\"=\" * 50)\n",
    "print(\"🔍 0점 리뷰 분석\")\n",
    "print(\"=\" * 50)\n",
    "print(f\"0점 리뷰 개수: {len(zero_ratings):,}개\")\n",
    "print(f\"0점 비율: {len(zero_ratings)/len(interactions)*100:.1f}%\")\n",
    "\n",
    "# 0점 리뷰 중 텍스트가 있는 것\n",
    "zero_with_text = zero_ratings[zero_ratings['review'].notna()]\n",
    "zero_without_text = zero_ratings[zero_ratings['review'].isna()]\n",
    "\n",
    "print(f\"\\n리뷰 텍스트 있는 0점: {len(zero_with_text):,}개\")\n",
    "print(f\"리뷰 텍스트 없는 0점: {len(zero_without_text):,}개\")\n",
    "\n",
    "# 샘플 확인\n",
    "if len(zero_with_text) > 0:\n",
    "    print(\"\\n\" + \"=\" * 50)\n",
    "    print(\"📝 0점 리뷰 샘플 (텍스트 있는 경우)\")\n",
    "    print(\"=\" * 50)\n",
    "    for i, review in enumerate(zero_with_text['review'].head(3), 1):\n",
    "        print(f\"\\n{i}. {review[:150]}...\")\n"
   ]
  },
  {
   "cell_type": "code",
   "execution_count": 7,
   "id": "ca08f57f-76cc-465e-a6fa-e2696f82fae8",
   "metadata": {},
   "outputs": [
    {
     "name": "stdout",
     "output_type": "stream",
     "text": [
      "==================================================\n",
      "🧹 0점 제거 결과\n",
      "==================================================\n",
      "제거 전: 1,132,367개\n",
      "제거 후: 1,071,520개\n",
      "제거량: 60,847개\n",
      "유지율: 94.6%\n",
      "\n",
      "==================================================\n",
      "새 평점 분포\n",
      "==================================================\n",
      "1점:  12,818개 (  1.2%)\n",
      "2점:  14,123개 (  1.3%)\n",
      "3점:  40,855개 (  3.8%)\n",
      "4점: 187,360개 ( 17.5%)\n",
      "5점: 816,364개 ( 76.2%)\n"
     ]
    }
   ],
   "source": [
    "# 전처리 전략: 0점 제거\n",
    "interactions_clean = interactions[interactions['rating'] > 0].copy()\n",
    "\n",
    "print(\"=\" * 50)\n",
    "print(\"🧹 0점 제거 결과\")\n",
    "print(\"=\" * 50)\n",
    "print(f\"제거 전: {len(interactions):,}개\")\n",
    "print(f\"제거 후: {len(interactions_clean):,}개\")\n",
    "print(f\"제거량: {len(interactions) - len(interactions_clean):,}개\")\n",
    "print(f\"유지율: {len(interactions_clean)/len(interactions)*100:.1f}%\")\n",
    "\n",
    "# 새 평점 분포\n",
    "print(\"\\n\" + \"=\" * 50)\n",
    "print(\"새 평점 분포\")\n",
    "print(\"=\" * 50)\n",
    "new_dist = interactions_clean['rating'].value_counts().sort_index()\n",
    "for rating, count in new_dist.items():\n",
    "    pct = count / len(interactions_clean) * 100\n",
    "    print(f\"{rating}점: {count:>7,}개 ({pct:>5.1f}%)\")\n",
    "\n"
   ]
  },
  {
   "cell_type": "code",
   "execution_count": 8,
   "id": "dab5e946-a180-45ef-83ee-e5167d18e6db",
   "metadata": {},
   "outputs": [
    {
     "name": "stdout",
     "output_type": "stream",
     "text": [
      "==================================================\n",
      "🏷️ 이진 분류 변환\n",
      "==================================================\n",
      "부정 (0): 67,796개 (6.3%)\n",
      "긍정 (1): 1,003,724개 (93.7%)\n",
      "\n",
      "불균형 비율: 긍정/부정 = 14.8:1\n",
      "\n",
      "평점별 라벨 매핑:\n",
      "  1점 → 0 (부정)\n",
      "  2점 → 0 (부정)\n",
      "  3점 → 0 (부정)\n",
      "  4점 → 1 (긍정)\n",
      "  5점 → 1 (긍정)\n",
      "\n",
      "✅ 이진 분류 완료!\n"
     ]
    }
   ],
   "source": [
    "# 4-5점 = 긍정 (1)\n",
    "# 1-3점 = 부정 (0)\n",
    "interactions_clean['label'] = (interactions_clean['rating'] >= 4).astype(int)\n",
    "\n",
    "print(\"=\" * 50)\n",
    "print(\"🏷️ 이진 분류 변환\")\n",
    "print(\"=\" * 50)\n",
    "\n",
    "label_dist = interactions_clean['label'].value_counts().sort_index()\n",
    "print(f\"부정 (0): {label_dist[0]:,}개 ({label_dist[0]/len(interactions_clean)*100:.1f}%)\")\n",
    "print(f\"긍정 (1): {label_dist[1]:,}개 ({label_dist[1]/len(interactions_clean)*100:.1f}%)\")\n",
    "\n",
    "# 불균형 비율\n",
    "ratio = label_dist[1] / label_dist[0]\n",
    "print(f\"\\n불균형 비율: 긍정/부정 = {ratio:.1f}:1\")\n",
    "\n",
    "print(\"\\n평점별 라벨 매핑:\")\n",
    "for rating in sorted(interactions_clean['rating'].unique()):\n",
    "    label = 1 if rating >= 4 else 0\n",
    "    label_name = \"긍정\" if label == 1 else \"부정\"\n",
    "    print(f\"  {rating}점 → {label} ({label_name})\")\n",
    "\n",
    "print(\"\\n✅ 이진 분류 완료!\")\n"
   ]
  },
  {
   "cell_type": "code",
   "execution_count": 11,
   "id": "84c31afe-ab1f-499d-bde1-63ed229b7be8",
   "metadata": {},
   "outputs": [
    {
     "data": {
      "image/png": "[encoded data removed]",
      "text/plain": [
       "<Figure size 1500x500 with 3 Axes>"
      ]
     },
     "metadata": {},
     "output_type": "display_data"
    },
    {
     "name": "stdout",
     "output_type": "stream",
     "text": [
      "✅ 시각화 완료!\n"
     ]
    }
   ],
   "source": [
    "import matplotlib.pyplot as plt\n",
    "\n",
    "fig, axes = plt.subplots(1, 3, figsize=(15, 5))\n",
    "\n",
    "# 1. 원본 평점 분포 (0점 포함)\n",
    "rating_dist_original = interactions['rating'].value_counts().sort_index()\n",
    "axes[0].bar(rating_dist_original.index, rating_dist_original.values, \n",
    "            color='steelblue', edgecolor='black', alpha=0.7)\n",
    "axes[0].set_xlabel('평점', fontsize=12)\n",
    "axes[0].set_ylabel('개수', fontsize=12)\n",
    "axes[0].set_title('1. 원본 평점 분포\\n(0점 포함)', fontsize=13, fontweight='bold')\n",
    "axes[0].set_xticks(range(6))\n",
    "axes[0].grid(axis='y', alpha=0.3)\n",
    "\n",
    "# 2. 0점 제거 후 평점 분포\n",
    "rating_dist_clean = interactions_clean['rating'].value_counts().sort_index()\n",
    "axes[1].bar(rating_dist_clean.index, rating_dist_clean.values, \n",
    "            color='coral', edgecolor='black', alpha=0.7)\n",
    "axes[1].set_xlabel('평점', fontsize=12)\n",
    "axes[1].set_ylabel('개수', fontsize=12)\n",
    "axes[1].set_title('2. 0점 제거 후\\n평점 분포', fontsize=13, fontweight='bold')\n",
    "axes[1].set_xticks(range(1, 6))\n",
    "axes[1].grid(axis='y', alpha=0.3)\n",
    "\n",
    "# 3. 이진 분류 라벨\n",
    "label_dist = interactions_clean['label'].value_counts().sort_index()\n",
    "colors = ['#ff6b6b', '#51cf66']  # 부정=빨강, 긍정=초록\n",
    "axes[2].bar(label_dist.index, label_dist.values, \n",
    "            color=colors, edgecolor='black', alpha=0.7)\n",
    "axes[2].set_xlabel('라벨', fontsize=12)\n",
    "axes[2].set_ylabel('개수', fontsize=12)\n",
    "axes[2].set_title('3. 이진 분류 라벨\\n(0=부정, 1=긍정)', fontsize=13, fontweight='bold')\n",
    "axes[2].set_xticks([0, 1])\n",
    "axes[2].set_xticklabels(['부정\\n(1-3점)', '긍정\\n(4-5점)'])\n",
    "axes[2].grid(axis='y', alpha=0.3)\n",
    "\n",
    "# 각 막대 위에 개수 표시\n",
    "for ax in axes:\n",
    "    for container in ax.containers:\n",
    "        ax.bar_label(container, fmt='{:,.0f}', padding=3)\n",
    "\n",
    "plt.tight_layout()\n",
    "plt.show()\n",
    "\n",
    "print(\"✅ 시각화 완료!\")\n"
   ]
  },
  {
   "cell_type": "code",
   "execution_count": 10,
   "id": "6998e9e4-630f-467a-9705-aadcdc3dbdad",
   "metadata": {},
   "outputs": [],
   "source": [
    "# macOS용\n",
    "import matplotlib.pyplot as plt\n",
    "import matplotlib.font_manager as fm\n",
    "\n",
    "# 한글 폰트 설정\n",
    "plt.rcParams['font.family'] = 'AppleGothic'\n",
    "plt.rcParams['axes.unicode_minus'] = False\n"
   ]
  },
  {
   "cell_type": "code",
   "execution_count": null,
   "id": "8e29b29b-1a68-4d49-bc41-5da255ba5aae",
   "metadata": {},
   "outputs": [],
   "source": []
  }
 ],
 "metadata": {
  "kernelspec": {
   "display_name": "Python 3 (ipykernel)",
   "language": "python",
   "name": "python3"
  },
  "language_info": {
   "codemirror_mode": {
    "name": "ipython",
    "version": 3
   },
   "file_extension": ".py",
   "mimetype": "text/x-python",
   "name": "python",
   "nbconvert_exporter": "python",
   "pygments_lexer": "ipython3",
   "version": "3.13.5"
  }
 },
 "nbformat": 4,
 "nbformat_minor": 5
}
